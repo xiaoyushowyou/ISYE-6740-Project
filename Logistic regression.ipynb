{
 "cells": [
  {
   "cell_type": "markdown",
   "metadata": {},
   "source": [
    "## Logistic regression"
   ]
  },
  {
   "cell_type": "code",
   "execution_count": 1,
   "metadata": {
    "collapsed": true
   },
   "outputs": [],
   "source": [
    "import pandas as pd\n",
    "import numpy as np"
   ]
  },
  {
   "cell_type": "code",
   "execution_count": 2,
   "metadata": {
    "collapsed": true
   },
   "outputs": [],
   "source": [
    "df_train = pd.read_csv(\"train.csv\", dtype={\"place_id\": object})"
   ]
  },
  {
   "cell_type": "code",
   "execution_count": 3,
   "metadata": {
    "collapsed": true
   },
   "outputs": [],
   "source": [
    "df_train['hour'] = df_train.time // 60 % 24\n",
    "df_train['weekday'] = df_train.time // (60*24) % 7\n",
    "df_train[\"month\"] = df_train.time // (60*24*30) % 12\n",
    "df_train[\"year\"] = df_train.time // (60*24*365)\n",
    "df_train[\"day\"] = df_train.time // (60*24*7) % 365"
   ]
  },
  {
   "cell_type": "code",
   "execution_count": 4,
   "metadata": {
    "collapsed": true
   },
   "outputs": [],
   "source": [
    "df_train.loc[:,'y'] *= 2\n",
    "df_train.loc[:, 'hour'] *= 0.01\n",
    "df_train.loc[:, 'weekday'] *= 0.002\n",
    "df_train.loc[:, 'accuracy'] *= 0.001"
   ]
  },
  {
   "cell_type": "code",
   "execution_count": 5,
   "metadata": {
    "collapsed": true
   },
   "outputs": [],
   "source": [
    "df_filter = df_train[(df_train['x'] > 1) & (df_train['x'] < 1.25) & (df_train['y'] > 1)& (df_train['y'] < 1.25) ]"
   ]
  },
  {
   "cell_type": "code",
   "execution_count": 6,
   "metadata": {
    "collapsed": false
   },
   "outputs": [
    {
     "data": {
      "text/html": [
       "<div>\n",
       "<table border=\"1\" class=\"dataframe\">\n",
       "  <thead>\n",
       "    <tr style=\"text-align: right;\">\n",
       "      <th></th>\n",
       "      <th>row_id</th>\n",
       "      <th>x</th>\n",
       "      <th>y</th>\n",
       "      <th>accuracy</th>\n",
       "      <th>time</th>\n",
       "      <th>place_id</th>\n",
       "      <th>hour</th>\n",
       "      <th>weekday</th>\n",
       "      <th>month</th>\n",
       "      <th>year</th>\n",
       "      <th>day</th>\n",
       "    </tr>\n",
       "  </thead>\n",
       "  <tbody>\n",
       "    <tr>\n",
       "      <th>3029</th>\n",
       "      <td>3029</td>\n",
       "      <td>1.0601</td>\n",
       "      <td>1.2432</td>\n",
       "      <td>0.042</td>\n",
       "      <td>770301</td>\n",
       "      <td>3925487173</td>\n",
       "      <td>0.22</td>\n",
       "      <td>0.004</td>\n",
       "      <td>5</td>\n",
       "      <td>1</td>\n",
       "      <td>76</td>\n",
       "    </tr>\n",
       "    <tr>\n",
       "      <th>5732</th>\n",
       "      <td>5732</td>\n",
       "      <td>1.1803</td>\n",
       "      <td>1.0114</td>\n",
       "      <td>0.035</td>\n",
       "      <td>617006</td>\n",
       "      <td>2938951386</td>\n",
       "      <td>0.11</td>\n",
       "      <td>0.002</td>\n",
       "      <td>2</td>\n",
       "      <td>1</td>\n",
       "      <td>61</td>\n",
       "    </tr>\n",
       "    <tr>\n",
       "      <th>6445</th>\n",
       "      <td>6445</td>\n",
       "      <td>1.1781</td>\n",
       "      <td>1.2496</td>\n",
       "      <td>0.065</td>\n",
       "      <td>18822</td>\n",
       "      <td>7764787344</td>\n",
       "      <td>0.01</td>\n",
       "      <td>0.012</td>\n",
       "      <td>0</td>\n",
       "      <td>0</td>\n",
       "      <td>1</td>\n",
       "    </tr>\n",
       "    <tr>\n",
       "      <th>6483</th>\n",
       "      <td>6483</td>\n",
       "      <td>1.2088</td>\n",
       "      <td>1.2224</td>\n",
       "      <td>0.077</td>\n",
       "      <td>210684</td>\n",
       "      <td>5536888156</td>\n",
       "      <td>0.07</td>\n",
       "      <td>0.012</td>\n",
       "      <td>4</td>\n",
       "      <td>0</td>\n",
       "      <td>20</td>\n",
       "    </tr>\n",
       "    <tr>\n",
       "      <th>21559</th>\n",
       "      <td>21559</td>\n",
       "      <td>1.2000</td>\n",
       "      <td>1.0132</td>\n",
       "      <td>0.165</td>\n",
       "      <td>427461</td>\n",
       "      <td>4207727523</td>\n",
       "      <td>0.20</td>\n",
       "      <td>0.004</td>\n",
       "      <td>9</td>\n",
       "      <td>0</td>\n",
       "      <td>42</td>\n",
       "    </tr>\n",
       "  </tbody>\n",
       "</table>\n",
       "</div>"
      ],
      "text/plain": [
       "       row_id       x       y  accuracy    time    place_id  hour  weekday  \\\n",
       "3029     3029  1.0601  1.2432     0.042  770301  3925487173  0.22    0.004   \n",
       "5732     5732  1.1803  1.0114     0.035  617006  2938951386  0.11    0.002   \n",
       "6445     6445  1.1781  1.2496     0.065   18822  7764787344  0.01    0.012   \n",
       "6483     6483  1.2088  1.2224     0.077  210684  5536888156  0.07    0.012   \n",
       "21559   21559  1.2000  1.0132     0.165  427461  4207727523  0.20    0.004   \n",
       "\n",
       "       month  year  day  \n",
       "3029       5     1   76  \n",
       "5732       2     1   61  \n",
       "6445       0     0    1  \n",
       "6483       4     0   20  \n",
       "21559      9     0   42  "
      ]
     },
     "execution_count": 6,
     "metadata": {},
     "output_type": "execute_result"
    }
   ],
   "source": [
    "df_filter.head()"
   ]
  },
  {
   "cell_type": "code",
   "execution_count": 7,
   "metadata": {
    "collapsed": false
   },
   "outputs": [],
   "source": [
    "Y = df_filter[\"place_id\"].as_matrix()\n",
    "X = df_filter.drop([\"row_id\",\"place_id\",\"time\"], 1).as_matrix()"
   ]
  },
  {
   "cell_type": "code",
   "execution_count": 10,
   "metadata": {
    "collapsed": false
   },
   "outputs": [
    {
     "name": "stderr",
     "output_type": "stream",
     "text": [
      "/Users/liujiaye/anaconda/envs/python3/lib/python3.5/site-packages/sklearn/cross_validation.py:44: DeprecationWarning: This module was deprecated in version 0.18 in favor of the model_selection module into which all the refactored classes and functions are moved. Also note that the interface of the new CV iterators are different from that of this module. This module will be removed in 0.20.\n",
      "  \"This module will be removed in 0.20.\", DeprecationWarning)\n"
     ]
    }
   ],
   "source": [
    "from sklearn.cross_validation import train_test_split\n",
    "\n",
    "x_train, x_test, y_train, y_test \\\n",
    "        = train_test_split(X, Y, test_size = 0.2, random_state = 2017 )"
   ]
  },
  {
   "cell_type": "code",
   "execution_count": 11,
   "metadata": {
    "collapsed": false
   },
   "outputs": [],
   "source": [
    "from sklearn.linear_model import LogisticRegression\n",
    "import time\n",
    "\n",
    "start = time.time()\n",
    "logisticModel = LogisticRegression(multi_class='ovr',penalty ='l1',C=1);\n",
    "logisticModel.fit(x_train, y_train)\n",
    "#train_score = logisticModel.predict(x_train, y_train)\n",
    "\n",
    "test_score = logisticModel.score(x_test, y_test)\n",
    "\n",
    "end = time.time()"
   ]
  },
  {
   "cell_type": "code",
   "execution_count": 12,
   "metadata": {
    "collapsed": false
   },
   "outputs": [
    {
     "name": "stdout",
     "output_type": "stream",
     "text": [
      "Testing error of Losgitic regression using L1 penalty is: 0.402728351127\n",
      "Total Time is: 29.645227193832397\n"
     ]
    }
   ],
   "source": [
    "print (\"Testing error of Losgitic regression using L1 penalty is:\", test_score)\n",
    "print (\"Total Time is:\", end-start)"
   ]
  },
  {
   "cell_type": "code",
   "execution_count": 13,
   "metadata": {
    "collapsed": true
   },
   "outputs": [],
   "source": [
    "start = time.time()\n",
    "logisticModel = LogisticRegression(multi_class='ovr',penalty ='l2',C=1);\n",
    "logisticModel.fit(x_train, y_train)\n",
    "#train_score = logisticModel.predict(x_train, y_train)\n",
    "\n",
    "test_score = logisticModel.score(x_test, y_test)\n",
    "\n",
    "end = time.time()"
   ]
  },
  {
   "cell_type": "code",
   "execution_count": 14,
   "metadata": {
    "collapsed": false
   },
   "outputs": [
    {
     "name": "stdout",
     "output_type": "stream",
     "text": [
      "Testing error of Losgitic regression using L2 penalty is: 0.315539739027\n",
      "Total Time is: 10.773410081863403\n"
     ]
    }
   ],
   "source": [
    "print (\"Testing error of Losgitic regression using L2 penalty is:\", test_score)\n",
    "print (\"Total Time is:\", end-start)"
   ]
  },
  {
   "cell_type": "markdown",
   "metadata": {},
   "source": [
    "## Cross Validation"
   ]
  },
  {
   "cell_type": "code",
   "execution_count": 15,
   "metadata": {
    "collapsed": false
   },
   "outputs": [
    {
     "name": "stderr",
     "output_type": "stream",
     "text": [
      "/Users/liujiaye/anaconda/envs/python3/lib/python3.5/site-packages/sklearn/model_selection/_split.py:581: Warning: The least populated class in y has only 1 members, which is too few. The minimum number of groups for any class cannot be less than n_splits=5.\n",
      "  % (min_groups, self.n_splits)), Warning)\n"
     ]
    }
   ],
   "source": [
    "from sklearn.model_selection import cross_val_score\n",
    "\n",
    "scores = cross_val_score(logisticModel, x_train, y_train, cv=5)"
   ]
  },
  {
   "cell_type": "code",
   "execution_count": 16,
   "metadata": {
    "collapsed": false
   },
   "outputs": [
    {
     "data": {
      "text/plain": [
       "array([ 0.23974763,  0.28125   ,  0.3046815 ,  0.29561753,  0.30548731])"
      ]
     },
     "execution_count": 16,
     "metadata": {},
     "output_type": "execute_result"
    }
   ],
   "source": [
    "scores"
   ]
  },
  {
   "cell_type": "code",
   "execution_count": null,
   "metadata": {
    "collapsed": true
   },
   "outputs": [],
   "source": []
  }
 ],
 "metadata": {
  "anaconda-cloud": {},
  "kernelspec": {
   "display_name": "Python [conda env:python3]",
   "language": "python",
   "name": "conda-env-python3-py"
  },
  "language_info": {
   "codemirror_mode": {
    "name": "ipython",
    "version": 3
   },
   "file_extension": ".py",
   "mimetype": "text/x-python",
   "name": "python",
   "nbconvert_exporter": "python",
   "pygments_lexer": "ipython3",
   "version": "3.5.2"
  }
 },
 "nbformat": 4,
 "nbformat_minor": 1
}
